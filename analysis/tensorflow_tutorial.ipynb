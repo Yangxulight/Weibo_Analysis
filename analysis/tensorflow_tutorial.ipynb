{
 "cells": [
  {
   "cell_type": "code",
   "execution_count": 1,
   "metadata": {},
   "outputs": [],
   "source": [
    "import tensorflow as tf\n",
    "import numpy as np"
   ]
  },
  {
   "cell_type": "code",
   "execution_count": 2,
   "metadata": {},
   "outputs": [],
   "source": [
    "# create data\n",
    "x_data = np.random.rand(100).astype(np.float32)\n",
    "y_data = x_data*0.1+0.3"
   ]
  },
  {
   "cell_type": "code",
   "execution_count": 3,
   "metadata": {},
   "outputs": [],
   "source": [
    "Weights = tf.Variable(tf.random_uniform([1],-1.0, 1.0))\n",
    "biases = tf.Variable(tf.zeros([1]))\n",
    "\n",
    "y = Weights*x_data + biases"
   ]
  },
  {
   "cell_type": "code",
   "execution_count": 4,
   "metadata": {},
   "outputs": [],
   "source": [
    "loss = tf.reduce_mean(tf.square(y-y_data))\n",
    "optimizer = tf.train.GradientDescentOptimizer(0.5)\n",
    "train = optimizer.minimize(loss)"
   ]
  },
  {
   "cell_type": "code",
   "execution_count": 5,
   "metadata": {},
   "outputs": [],
   "source": [
    "init = tf.global_variables_initializer()"
   ]
  },
  {
   "cell_type": "code",
   "execution_count": 14,
   "metadata": {},
   "outputs": [
    {
     "name": "stdout",
     "output_type": "stream",
     "text": [
      "0 [0.4714222] [0.1339805]\n",
      "20 [0.18188772] [0.25633678]\n",
      "40 [0.11872413] [0.29001614]\n",
      "60 [0.1042814] [0.29771712]\n",
      "80 [0.10097897] [0.29947802]\n",
      "100 [0.10022386] [0.29988065]\n",
      "120 [0.10005119] [0.2999727]\n",
      "140 [0.1000117] [0.29999378]\n",
      "160 [0.10000265] [0.29999858]\n",
      "180 [0.10000063] [0.29999968]\n",
      "200 [0.10000015] [0.29999992]\n",
      "220 [0.1000001] [0.29999995]\n",
      "240 [0.1000001] [0.29999995]\n",
      "260 [0.1000001] [0.29999995]\n",
      "280 [0.1000001] [0.29999995]\n",
      "300 [0.1000001] [0.29999995]\n",
      "320 [0.1000001] [0.29999995]\n",
      "340 [0.1000001] [0.29999995]\n",
      "360 [0.1000001] [0.29999995]\n",
      "380 [0.1000001] [0.29999995]\n",
      "400 [0.1000001] [0.29999995]\n",
      "420 [0.1000001] [0.29999995]\n",
      "440 [0.1000001] [0.29999995]\n",
      "460 [0.1000001] [0.29999995]\n",
      "480 [0.1000001] [0.29999995]\n",
      "500 [0.1000001] [0.29999995]\n",
      "520 [0.1000001] [0.29999995]\n",
      "540 [0.1000001] [0.29999995]\n",
      "560 [0.1000001] [0.29999995]\n",
      "580 [0.1000001] [0.29999995]\n",
      "600 [0.1000001] [0.29999995]\n",
      "620 [0.1000001] [0.29999995]\n",
      "640 [0.1000001] [0.29999995]\n",
      "660 [0.1000001] [0.29999995]\n",
      "680 [0.1000001] [0.29999995]\n",
      "700 [0.1000001] [0.29999995]\n",
      "720 [0.1000001] [0.29999995]\n",
      "740 [0.1000001] [0.29999995]\n",
      "760 [0.1000001] [0.29999995]\n",
      "780 [0.1000001] [0.29999995]\n",
      "800 [0.1000001] [0.29999995]\n",
      "820 [0.1000001] [0.29999995]\n",
      "840 [0.1000001] [0.29999995]\n",
      "860 [0.1000001] [0.29999995]\n",
      "880 [0.1000001] [0.29999995]\n",
      "900 [0.1000001] [0.29999995]\n",
      "920 [0.1000001] [0.29999995]\n",
      "940 [0.1000001] [0.29999995]\n",
      "960 [0.1000001] [0.29999995]\n",
      "980 [0.1000001] [0.29999995]\n",
      "1000 [0.1000001] [0.29999995]\n",
      "1020 [0.1000001] [0.29999995]\n",
      "1040 [0.1000001] [0.29999995]\n",
      "1060 [0.1000001] [0.29999995]\n",
      "1080 [0.1000001] [0.29999995]\n",
      "1100 [0.1000001] [0.29999995]\n",
      "1120 [0.1000001] [0.29999995]\n",
      "1140 [0.1000001] [0.29999995]\n",
      "1160 [0.1000001] [0.29999995]\n",
      "1180 [0.1000001] [0.29999995]\n",
      "1200 [0.1000001] [0.29999995]\n",
      "1220 [0.1000001] [0.29999995]\n",
      "1240 [0.1000001] [0.29999995]\n",
      "1260 [0.1000001] [0.29999995]\n",
      "1280 [0.1000001] [0.29999995]\n",
      "1300 [0.1000001] [0.29999995]\n",
      "1320 [0.1000001] [0.29999995]\n",
      "1340 [0.1000001] [0.29999995]\n",
      "1360 [0.1000001] [0.29999995]\n",
      "1380 [0.1000001] [0.29999995]\n",
      "1400 [0.1000001] [0.29999995]\n",
      "1420 [0.1000001] [0.29999995]\n",
      "1440 [0.1000001] [0.29999995]\n",
      "1460 [0.1000001] [0.29999995]\n",
      "1480 [0.1000001] [0.29999995]\n",
      "1500 [0.1000001] [0.29999995]\n",
      "1520 [0.1000001] [0.29999995]\n",
      "1540 [0.1000001] [0.29999995]\n",
      "1560 [0.1000001] [0.29999995]\n",
      "1580 [0.1000001] [0.29999995]\n",
      "1600 [0.1000001] [0.29999995]\n",
      "1620 [0.1000001] [0.29999995]\n",
      "1640 [0.1000001] [0.29999995]\n",
      "1660 [0.1000001] [0.29999995]\n",
      "1680 [0.1000001] [0.29999995]\n",
      "1700 [0.1000001] [0.29999995]\n",
      "1720 [0.1000001] [0.29999995]\n",
      "1740 [0.1000001] [0.29999995]\n",
      "1760 [0.1000001] [0.29999995]\n",
      "1780 [0.1000001] [0.29999995]\n",
      "1800 [0.1000001] [0.29999995]\n",
      "1820 [0.1000001] [0.29999995]\n",
      "1840 [0.1000001] [0.29999995]\n",
      "1860 [0.1000001] [0.29999995]\n",
      "1880 [0.1000001] [0.29999995]\n",
      "1900 [0.1000001] [0.29999995]\n",
      "1920 [0.1000001] [0.29999995]\n",
      "1940 [0.1000001] [0.29999995]\n",
      "1960 [0.1000001] [0.29999995]\n",
      "1980 [0.1000001] [0.29999995]\n",
      "2000 [0.1000001] [0.29999995]\n"
     ]
    }
   ],
   "source": [
    "sess = tf.Session()\n",
    "sess.run(init)\n",
    "steps = 2001\n",
    "for step in range(steps):\n",
    "    sess.run(train)\n",
    "    if step % 20 == 0:\n",
    "        print(step, sess.run(Weights), sess.run(biases))"
   ]
  },
  {
   "cell_type": "code",
   "execution_count": 15,
   "metadata": {},
   "outputs": [
    {
     "name": "stdout",
     "output_type": "stream",
     "text": [
      "[[12]]\n",
      "[[12]]\n"
     ]
    }
   ],
   "source": [
    "# How to run a operation\n",
    "matrix1 = tf.constant([[3,3]])\n",
    "matrix2 = tf.constant([[2],[2]])\n",
    "\n",
    "product = tf.matmul(matrix1, matrix2)\n",
    "\n",
    "# method 1 \n",
    "sess = tf.Session()\n",
    "result = sess.run(product)\n",
    "print(result)\n",
    "sess.close()\n",
    "\n",
    "# method 2\n",
    "with tf.Session() as sess:\n",
    "    result2 = sess.run(product)\n",
    "    print(result2)"
   ]
  },
  {
   "cell_type": "code",
   "execution_count": 17,
   "metadata": {},
   "outputs": [
    {
     "name": "stdout",
     "output_type": "stream",
     "text": [
      "1\n",
      "2\n",
      "3\n",
      "4\n",
      "5\n",
      "6\n",
      "7\n",
      "8\n",
      "9\n",
      "10\n",
      "11\n",
      "12\n",
      "13\n",
      "14\n",
      "15\n",
      "16\n",
      "17\n",
      "18\n",
      "19\n",
      "20\n",
      "21\n",
      "22\n",
      "23\n",
      "24\n",
      "25\n",
      "26\n",
      "27\n",
      "28\n",
      "29\n",
      "30\n"
     ]
    }
   ],
   "source": [
    "# How to define a Variable in tf\n",
    "state = tf.Variable(0, name='counter')\n",
    "\n",
    "# Define a constant variable\n",
    "one = tf.constant(1)\n",
    "\n",
    "# Define a add operation\n",
    "new_value = tf.add(state, one)\n",
    "\n",
    "# Update state to a new_value\n",
    "update = tf.assign(state, new_value)\n",
    "\n",
    "# If you define a variable, you must initialize it\n",
    "init = tf.global_variables_initializer()\n",
    "\n",
    "steps = 30\n",
    "with tf.Session() as sess:\n",
    "    sess.run(init)\n",
    "    for _ in range(steps):\n",
    "        sess.run(update)\n",
    "        print(sess.run(state))"
   ]
  },
  {
   "cell_type": "code",
   "execution_count": 19,
   "metadata": {},
   "outputs": [
    {
     "name": "stdout",
     "output_type": "stream",
     "text": [
      "[14.]\n"
     ]
    }
   ],
   "source": [
    "# How to use placeholder to save variable and read data from outside\n",
    "input1 = tf.placeholder(tf.float32)\n",
    "input2 = tf.placeholder(tf.float32)\n",
    "\n",
    "output = tf.multiply(input1, input2)\n",
    "\n",
    "with tf.Session() as sess:\n",
    "    print(sess.run(output, feed_dict = {input1:[7.], input2:[2.]}))"
   ]
  },
  {
   "cell_type": "code",
   "execution_count": 20,
   "metadata": {},
   "outputs": [],
   "source": [
    "# How to use activation function\n",
    "# we can use nonlnear function to do many thing. so, activation function is used to create nonlinear function\n",
    "# exp, for linear function f = Wx, we get g = sigmoid(Wx) as a new nonlinear function\n",
    "# when you use CNN , we recommend you to use relu as activation function, and we recommend you to use tanh when doing RNN\n"
   ]
  },
  {
   "cell_type": "code",
   "execution_count": 25,
   "metadata": {},
   "outputs": [],
   "source": [
    "# Adding layer to network\n",
    "def add_layer(inputs, in_size, out_size, activation_function = None):\n",
    "    Weights = tf.Variable(tf.random_normal([in_size, out_size]))\n",
    "    biases = tf.Variable(tf.zeros([1, out_size]) + 0.1)\n",
    "    Wx_plus_b = tf.matmul(inputs, Weights) + biases\n",
    "    if activation_function == None:\n",
    "        return Wx_plus_b\n",
    "    else:\n",
    "        return activation_function(Wx_plus_b)\n"
   ]
  },
  {
   "cell_type": "code",
   "execution_count": 36,
   "metadata": {},
   "outputs": [
    {
     "name": "stdout",
     "output_type": "stream",
     "text": [
      "0.10855837\n",
      "0.015097357\n",
      "0.00905848\n",
      "0.0066611604\n",
      "0.005343978\n",
      "0.004753222\n",
      "0.0045009186\n",
      "0.0043568695\n",
      "0.0042462815\n",
      "0.0041471017\n",
      "0.004045874\n",
      "0.003960391\n",
      "0.003881116\n",
      "0.003810178\n",
      "0.0037448034\n",
      "0.0036842625\n",
      "0.003628038\n",
      "0.0035738787\n",
      "0.0035292748\n",
      "0.0034840845\n"
     ]
    }
   ],
   "source": [
    "# Building a network\n",
    "x_data = np.linspace(-1, 1, 300, dtype=np.float32)[:, np.newaxis] # 300 items with a same gap from -1 to 1, add a dimension [1,2,3] => [[1],[2],[3]]\n",
    "noise = np.random.normal(0, 0.05 ,x_data.shape).astype(np.float32)\n",
    "y_data = np.square(x_data)-0.5 + noise\n",
    "\n",
    "# Use placeholder to define out inputs\n",
    "xs = tf.placeholder(tf.float32, [None,1])\n",
    "ys = tf.placeholder(tf.float32, [None,1])\n",
    "\n",
    "# Add layer for network\n",
    "l1 = add_layer(xs, 1, 10, activation_function=tf.nn.relu) # 1 x 10 layer\n",
    "prediction = add_layer(l1, 10, 1, activation_function=None) # 10 x 1 layer\n",
    "loss = tf.reduce_mean(tf.reduce_sum(tf.square(ys-prediction), reduction_indices=[1]))\n",
    "\n",
    "train_step = tf.train.GradientDescentOptimizer(0.1).minimize(loss)\n",
    "\n",
    "init = tf.global_variables_initializer()\n",
    "\n",
    "sess = tf.Session()\n",
    "sess.run(init)\n",
    "\n",
    "# Training step\n",
    "steps = 1000\n",
    "for i in range(steps):\n",
    "    sess.run(train_step, feed_dict={xs: x_data, ys: y_data})\n",
    "    if i % 50 == 0:\n",
    "        print(sess.run(loss, feed_dict = {xs: x_data, ys: y_data}))"
   ]
  },
  {
   "cell_type": "code",
   "execution_count": null,
   "metadata": {},
   "outputs": [],
   "source": []
  }
 ],
 "metadata": {
  "kernelspec": {
   "display_name": "Python 3",
   "language": "python",
   "name": "python3"
  },
  "language_info": {
   "codemirror_mode": {
    "name": "ipython",
    "version": 3
   },
   "file_extension": ".py",
   "mimetype": "text/x-python",
   "name": "python",
   "nbconvert_exporter": "python",
   "pygments_lexer": "ipython3",
   "version": "3.5.2"
  }
 },
 "nbformat": 4,
 "nbformat_minor": 2
}
