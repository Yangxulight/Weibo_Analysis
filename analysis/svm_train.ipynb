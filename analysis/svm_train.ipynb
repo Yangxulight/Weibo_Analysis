{
 "cells": [
  {
   "cell_type": "code",
   "execution_count": 20,
   "metadata": {},
   "outputs": [],
   "source": [
    "import sys\n",
    "import pickle\n",
    "from os import path\n",
    "import numpy as np\n",
    "from sklearn import svm\n",
    "from sklearn import metrics\n",
    "from sklearn.decomposition import PCA\n",
    "import matplotlib.pyplot as plt\n",
    "import pandas as pd"
   ]
  },
  {
   "cell_type": "code",
   "execution_count": 21,
   "metadata": {},
   "outputs": [],
   "source": [
    "df = pd.read_csv(path.join('2015_core', 'train_set.csv'))\n",
    "y_train =df.iloc[:, 1:2]\n",
    "x_train = df.iloc[:, 2:]"
   ]
  },
  {
   "cell_type": "code",
   "execution_count": 22,
   "metadata": {},
   "outputs": [
    {
     "data": {
      "text/plain": [
       "PCA(copy=True, iterated_power='auto', n_components=400, random_state=None,\n",
       "  svd_solver='auto', tol=0.0, whiten=False)"
      ]
     },
     "execution_count": 22,
     "metadata": {},
     "output_type": "execute_result"
    }
   ],
   "source": [
    "# PCA decompisition\n",
    "n_components = 400\n",
    "pca = PCA(n_components=n_components)\n",
    "pca.fit(x_train)\n"
   ]
  },
  {
   "cell_type": "code",
   "execution_count": 23,
   "metadata": {},
   "outputs": [
    {
     "data": {
      "image/png": "[encoded data removed]",
      "text/plain": [
       "<Figure size 288x216 with 1 Axes>"
      ]
     },
     "metadata": {},
     "output_type": "display_data"
    }
   ],
   "source": [
    "# PCA plot\n",
    "plt.figure(1, figsize=(4, 3))\n",
    "plt.clf()\n",
    "plt.axes([.2, .2, .7, .7])\n",
    "plt.plot(pca.explained_variance_, linewidth=2)\n",
    "plt.axis('tight')\n",
    "plt.xlabel('n_components')\n",
    "plt.ylabel('explained_variance_')\n",
    "plt.show()"
   ]
  },
  {
   "cell_type": "code",
   "execution_count": 24,
   "metadata": {},
   "outputs": [
    {
     "name": "stdout",
     "output_type": "stream",
     "text": [
      "[5.84704698e+00 3.62164305e+00 3.50600028e+00 1.41589986e+00\n",
      " 1.21721246e+00 1.13382138e+00 1.04657240e+00 9.73185873e-01\n",
      " 9.25395562e-01 8.78617030e-01 8.16819403e-01 7.79097810e-01\n",
      " 7.77057337e-01 6.51116519e-01 6.12745686e-01 5.82100704e-01\n",
      " 5.72596556e-01 5.38493494e-01 5.11830237e-01 4.97479860e-01\n",
      " 4.88445619e-01 4.68617198e-01 4.42484821e-01 4.27412993e-01\n",
      " 4.01231961e-01 3.99698926e-01 3.84947216e-01 3.53529949e-01\n",
      " 3.50549405e-01 3.45793777e-01 3.37419101e-01 3.35899373e-01\n",
      " 3.11854253e-01 3.08263374e-01 2.89632073e-01 2.85894403e-01\n",
      " 2.84692180e-01 2.81844771e-01 2.66056812e-01 2.59372555e-01\n",
      " 2.53964463e-01 2.46658077e-01 2.42285054e-01 2.39850759e-01\n",
      " 2.36911771e-01 2.28858179e-01 2.23753390e-01 2.16120235e-01\n",
      " 2.12402329e-01 2.10609637e-01 2.07376961e-01 2.02684757e-01\n",
      " 1.99749163e-01 1.97517713e-01 1.90953287e-01 1.87323975e-01\n",
      " 1.81455524e-01 1.78829457e-01 1.74971606e-01 1.67013108e-01\n",
      " 1.65881366e-01 1.62900540e-01 1.62418663e-01 1.59364905e-01\n",
      " 1.56773869e-01 1.54377250e-01 1.51708688e-01 1.49366168e-01\n",
      " 1.46491420e-01 1.45253471e-01 1.42049228e-01 1.41028899e-01\n",
      " 1.37987170e-01 1.35654978e-01 1.33612702e-01 1.29424189e-01\n",
      " 1.28952797e-01 1.27877683e-01 1.25830003e-01 1.23711297e-01\n",
      " 1.22171343e-01 1.20098169e-01 1.17959411e-01 1.16094223e-01\n",
      " 1.14217317e-01 1.13531371e-01 1.10304755e-01 1.09430287e-01\n",
      " 1.09166636e-01 1.08717953e-01 1.06476556e-01 1.04833487e-01\n",
      " 1.03744857e-01 1.01136153e-01 1.00256599e-01 9.98544762e-02\n",
      " 9.82063752e-02 9.69579008e-02 9.64417611e-02 9.51185665e-02\n",
      " 9.38475858e-02 9.24608645e-02 9.02661246e-02 8.93407923e-02\n",
      " 8.86099478e-02 8.75869430e-02 8.58423487e-02 8.48932608e-02\n",
      " 8.43969863e-02 8.41869734e-02 8.28715923e-02 8.13086686e-02\n",
      " 8.04912517e-02 7.93754140e-02 7.86658459e-02 7.78401279e-02\n",
      " 7.66563214e-02 7.49827760e-02 7.44989580e-02 7.43228748e-02\n",
      " 7.36196185e-02 7.28537618e-02 7.14694354e-02 7.05741382e-02\n",
      " 6.95019416e-02 6.88450737e-02 6.82967901e-02 6.72809829e-02\n",
      " 6.64982401e-02 6.52538983e-02 6.50489862e-02 6.42742640e-02\n",
      " 6.35349609e-02 6.30449803e-02 6.18695788e-02 6.16416687e-02\n",
      " 6.06409742e-02 6.02895342e-02 6.01186919e-02 5.87304891e-02\n",
      " 5.83097845e-02 5.81455742e-02 5.74188222e-02 5.63360762e-02\n",
      " 5.56899157e-02 5.50132184e-02 5.46778816e-02 5.41295101e-02\n",
      " 5.38074306e-02 5.26090907e-02 5.24124561e-02 5.19529278e-02\n",
      " 5.12295374e-02 5.04495959e-02 5.00196125e-02 4.94839796e-02\n",
      " 4.88869377e-02 4.84537979e-02 4.81465330e-02 4.80175486e-02\n",
      " 4.71867600e-02 4.69953533e-02 4.60468359e-02 4.58334712e-02\n",
      " 4.49995337e-02 4.47767916e-02 4.42980551e-02 4.36632532e-02\n",
      " 4.34820370e-02 4.29906625e-02 4.28007607e-02 4.16863411e-02\n",
      " 4.14444079e-02 4.07503989e-02 4.02261941e-02 3.99862802e-02\n",
      " 3.94764481e-02 3.91304006e-02 3.87329567e-02 3.80688624e-02\n",
      " 3.73073337e-02 3.72394341e-02 3.69126798e-02 3.66341405e-02\n",
      " 3.59320266e-02 3.55073225e-02 3.53289422e-02 3.50541420e-02\n",
      " 3.45522877e-02 3.40921187e-02 3.38050522e-02 3.34440354e-02\n",
      " 3.30965755e-02 3.29354096e-02 3.26019654e-02 3.23394848e-02\n",
      " 3.19939719e-02 3.16072125e-02 3.10276046e-02 3.09020339e-02\n",
      " 3.07548781e-02 3.00866249e-02 2.99484893e-02 2.97653998e-02\n",
      " 2.92557196e-02 2.91231812e-02 2.89004397e-02 2.87257031e-02\n",
      " 2.85897781e-02 2.80912669e-02 2.78982062e-02 2.75651609e-02\n",
      " 2.71890978e-02 2.68329797e-02 2.64216125e-02 2.61536472e-02\n",
      " 2.60843334e-02 2.56367606e-02 2.53720670e-02 2.51984864e-02\n",
      " 2.50942742e-02 2.47003621e-02 2.43985168e-02 2.42060788e-02\n",
      " 2.37796806e-02 2.32968634e-02 2.31892030e-02 2.30426586e-02\n",
      " 2.29815953e-02 2.22763675e-02 2.21720741e-02 2.19835315e-02\n",
      " 2.18232746e-02 2.16719734e-02 2.15545369e-02 2.13419589e-02\n",
      " 2.11530715e-02 2.10280637e-02 2.06383086e-02 2.04890895e-02\n",
      " 2.02370481e-02 2.01345499e-02 1.98731142e-02 1.96275096e-02\n",
      " 1.93011932e-02 1.90912965e-02 1.88940971e-02 1.88447421e-02\n",
      " 1.86026606e-02 1.83949297e-02 1.82449214e-02 1.80577522e-02\n",
      " 1.79640189e-02 1.78247693e-02 1.74630528e-02 1.72994548e-02\n",
      " 1.71584857e-02 1.68725629e-02 1.67475120e-02 1.65085520e-02\n",
      " 1.63048033e-02 1.61947457e-02 1.60985295e-02 1.59829320e-02\n",
      " 1.56555716e-02 1.54807904e-02 1.53690059e-02 1.51932179e-02\n",
      " 1.50063996e-02 1.49253013e-02 1.48532791e-02 1.45872504e-02\n",
      " 1.43561394e-02 1.42438935e-02 1.41021873e-02 1.39825125e-02\n",
      " 1.37304999e-02 1.36536529e-02 1.36360317e-02 1.35041479e-02\n",
      " 1.34025896e-02 1.33098866e-02 1.29771844e-02 1.26810283e-02\n",
      " 1.26320138e-02 1.25733650e-02 1.23980689e-02 1.23447626e-02\n",
      " 1.22168719e-02 1.21381699e-02 1.19439322e-02 1.19142591e-02\n",
      " 1.16851778e-02 1.15642155e-02 1.15402296e-02 1.13637118e-02\n",
      " 1.11674471e-02 1.10272813e-02 1.08881916e-02 1.08097822e-02\n",
      " 1.07653453e-02 1.06425803e-02 1.04448543e-02 1.02887321e-02\n",
      " 1.02392739e-02 1.01717021e-02 1.00629003e-02 9.94052298e-03\n",
      " 9.76874071e-03 9.60267456e-03 9.38810692e-03 9.31870438e-03\n",
      " 9.21095949e-03 9.09685667e-03 8.98895410e-03 8.93900677e-03\n",
      " 8.79403540e-03 8.62937870e-03 8.50349398e-03 8.45006807e-03\n",
      " 8.39848035e-03 8.36048769e-03 8.22292410e-03 8.09758590e-03\n",
      " 8.07409271e-03 7.94214616e-03 7.85499321e-03 7.77718038e-03\n",
      " 7.66833911e-03 7.54396240e-03 7.47364173e-03 7.36806230e-03\n",
      " 7.23376237e-03 7.06832494e-03 7.03492595e-03 6.92545800e-03\n",
      " 6.89987407e-03 6.82110702e-03 6.71555163e-03 6.61003401e-03\n",
      " 6.53709477e-03 6.48036090e-03 6.40688232e-03 6.32134796e-03\n",
      " 6.27183622e-03 6.17406598e-03 6.01647546e-03 6.01097304e-03\n",
      " 5.86506030e-03 5.82738479e-03 5.81120589e-03 5.71956164e-03\n",
      " 5.60625712e-03 5.58016667e-03 5.47533544e-03 5.39429654e-03\n",
      " 5.36823260e-03 5.25803330e-03 5.20557427e-03 5.16625818e-03\n",
      " 4.99154465e-03 4.96463640e-03 4.88583014e-03 4.73165926e-03\n",
      " 4.71032625e-03 4.65932589e-03 4.59548702e-03 4.54247978e-03\n",
      " 4.51435774e-03 4.37232864e-03 4.36457149e-03 4.34666367e-03\n",
      " 4.19080131e-03 4.10401947e-03 4.04722357e-03 4.01109481e-03\n",
      " 3.91191968e-03 3.84346511e-03 3.76087836e-03 3.67826843e-03\n",
      " 3.64735079e-03 3.61511433e-03 3.58105998e-03 3.50396345e-03\n",
      " 3.46514039e-03 3.38945122e-03 3.36715223e-03 3.24265979e-03\n",
      " 3.13930039e-03 3.05727143e-03 2.99203579e-03 2.94337655e-03\n",
      " 2.88968958e-03 2.83340104e-03 2.80895417e-03 2.67593973e-03\n",
      " 2.60812801e-03 2.44532391e-03 2.39615085e-03 1.63565074e-03]\n"
     ]
    }
   ],
   "source": [
    "print(pca.explained_variance_)"
   ]
  },
  {
   "cell_type": "code",
   "execution_count": 25,
   "metadata": {
    "scrolled": true
   },
   "outputs": [
    {
     "name": "stdout",
     "output_type": "stream",
     "text": [
      "[[ 1.32449248e+00  1.09177483e+00 -1.65333994e+00 ... -9.55064816e-03\n",
      "   2.79675323e-01 -2.07056178e-01]\n",
      " [-1.18633499e+00  4.57428787e-01 -1.56409302e+00 ...  3.97663743e-01\n",
      "   2.68599841e-04 -1.30821060e-01]\n",
      " [-9.20865016e-02  1.15490543e+00 -1.16055732e+00 ... -1.50835742e-01\n",
      "   1.73367851e-01 -1.38115135e-01]\n",
      " ...\n",
      " [ 1.14795773e+00  2.44678822e-01  5.58958791e-01 ... -7.25571301e-02\n",
      "  -5.94224825e-01 -1.58862868e-01]\n",
      " [ 1.39496431e+00  1.84546564e-01  3.67211118e+00 ...  2.32762731e-01\n",
      "  -6.14596540e-02  5.55986648e-02]\n",
      " [ 1.68712941e+00  1.05774329e+00 -2.49936246e+00 ...  9.60692375e-01\n",
      "  -1.09273634e-01  1.82813991e+00]]\n",
      "[0, -1, 0, -1, 0, 0, 0, 0, 0, 0, 0, 1, 1, 1, 1, 1, 0, 0, 0, 0, 1, 1, 1, 1, 0, 0, -1, -1, -1, -1, 1, 1, 1, 0, 1, 1, -1, 1, 1, -1, 1, 0, 0, -1, -1, -1, -1, -1, -1, -1, -1, -1, -1, -1, -1, 0, -1, 1, 1, 1, 1, 1, 1, 0, 1, 1, 1, -1, 1, -1, 1, -1, -1, -1, -1, 0, 0, -1, -1, 0, 0, -1, 0, 1, 0, 0, -1, 1, 0, 0, 0, 0, 0, 1, 1, 0, 0, 1, 0, 0, 1, 1, 0, 1, 1, 1, 1, 1, 1, 1, 1, 0, 0, 0, 0, 1, 1, 1, 1, 1, 0, -1, 0, 0, 0, 0, 0, -1, -1, 0, 0, 1, 1, 0, 0, 0, 0, 1, 1, 0, 1, -1, 0, -1, -1, 0, 0, 1, 0, 1, 1, 1, 0, 0, -1, 0, 1, 1, 0, -1, -1, -1, 1, 0, 1, 1, 1, 0, 0, 1, 1, 1, 1, 1, 1, 1, 1, 1, 0, 1, 1, 0, 0, 0, 0, 1, 0, 0, 0, 1, 1, -1, 0, 0, -1, 0, 0, -1, -1, 1, -1, 0, 1, 1, 0, 1, -1, 1, 1, 1, 1, 1, 0, 0, 0, 0, -1, 0, 0, -1, -1, 0, 1, 1, 1, 1, 0, 0, 0, 0, 0, 0, 0, 0, 0, 0, 1, 0, 0, 0, -1, -1, -1, 1, 1, 1, 1, -1, 0, 1, 1, 1, 1, 1, 1, 1, 0, 0, 0, -1, 0, -1, -1, -1, -1, 0, -1, 0, 1, 1, 0, 0, 0, 0, 0, 0, 1, 0, -1, 1, 0, 0, -1, -1, -1, -1, -1, -1, -1, -1, 0, 1, 0, 0, 0, 0, 0, 0, 0, 0, 0, 0, 0, 0, 0, 0, 0, 0, 0, 1, 0, 0, 0, 0, 0, 0, 0, 0, 1, 1, 0, 0, 0, 0, -1, -1, 1, 0, 0, 0, 1, 0, 1, 1, 1, 0, 1, 1, 1, 0, 0, 1, 1, 0, 0, -1, 0, -1, 1, 0, 0, 0, 0, 0, 0, 0, 1, 1, 1, 1, 1, 0, 1, 0, 1, 1, 1, 0, 1, -1, 0, 1, 1, 1, 1, -1, -1, 1, 0, 0, 1, 1, 1, -1, -1, -1, 0, 0, 0, 1, 1, 1, 1, 1, 1, 1, 1, 0, 1, 0, -1, 0, 0, 0, 0, -1, 0, 0, -1, 1, 1, 1, 0, 0, 0, 1, 0, 0, 0, 1, 1, -1, 0, 1, 0, 1, 1, 1, 0, 1, 1, 1, 0, 0, 0, 0, 0, 0, 0, 0, -1, 0, 0, 0, 0, 0, -1, 0, 0, 0, -1, -1, -1, -1, 1, 1, 0, 1, 0, 0, 0, 1, 0, 1, 0, 1, 1, 1, 1, 0, 0, -1, -1, 0, 1, 0, 0, 1, 0, 1, 0, 0, 0, 1, 0, 1, 0, 0, 0, 0, 0, 1, 1, 1, -1, 0, 1, 0, 1, -1, -1, 0, 0, -1, 0, 0, 0, 0, 1, 0, 0, 1, 0, 0, 0, 0, 1, 1, 0, 0, 0, 0, 0, 0, 0, 1, 1, 0, 0, 0, -1, 0, 0, -1, -1, 0, 0, 1, 1, 0, 0, -1, 0, 0, -1, -1, 1, 1, 0, 0, -1, -1, 0, -1, -1, 1, 0, -1, -1, 0, -1, -1, -1, 0, 0, 1, 1, 1, 0, 0, 1, 0, 0, 0, 0, 0, 0, -1, 0, 0, 0, 0, 0, 0, 1, 1, 0, 0, 0, 0, 1, 1, 1, 0, 1, 1, 1, 1, 1, 1, 1, 1, 1, 0, 1, -1, 1, 1, -1, -1, -1, 0, 1, 1, -1, 1, 1, 1, 1, 1, 0, 1, 0, 0, 0, 0, -1, -1, -1, 0, 0, 0, 0, -1, 0, 0, 0, 0, -1, -1, 0, -1, 0, 0, 0, -1, 0, -1, 0, 0, -1, -1, -1, -1, -1, -1, 0, -1, 0, -1, 0, -1, 0, -1, 0, 0, 0, 1, 1, 0, 1, 0, 1, 1, 1, 1, 1, 1, -1, 1, 0, 1, 1, 1, 0, 1, 1, 0, 1, -1, 0, 1, -1, -1, 0, 0, -1, 0, 0, 0, 0, 0, 1, 1, 1, 1, -1, 1, 0, 0, 1, 1, 1, 1, 1, 1, 1, 0, 1, 0, 1, 1, 0, 0, 0, 1, 0, 0, 0, 0, 0, 0, 1, -1, -1, 0, 0, 1, 0, 0, 0, -1, -1, 1, 1, 1, 1, 1, 1, -1, 0, -1, 1, 1, 1, -1, -1, 0, 0, 0, 0, 0, 0, 0, 0, 0, 0, 0, 0, 0, 0, 0, 0, 0, -1, 0, 0, 0, 1, 0, 0, 1, 1, 1, 1, 1, 1, -1, 1, 0, 0, -1, 0, 0, 0, -1, -1, 0, -1, -1, 0, -1, -1, -1, -1, 0, 0, 0, 0, 0, 0, -1, -1, -1, -1, -1, -1, 0, 0, -1, 0, 0, -1, 0, 1, 0, 0, 0, -1, -1, 0, 0, 1, 0, -1, 1, -1, -1, 0, -1, 0, -1, -1, -1, -1, 0, -1, -1, -1, -1, 0, 0, -1, 1, 1, 1, 1, 1, 0, 1, 1, 1, 1, 1, 0, 1, 1, 1, 1, 1, 1, 0, 0, 1, 1, 0, 0, 1, 1, 1, 1, 1, 0, 1, 1, 1, 1, 1, 0, 1, 0, 1, 1, 1, 0, 1, 1, 1, 1, 0, 0, -1, 0, -1, 0, 1, 1, 0, 0, 0, 1, 0, 0, -1, 1, -1, 1, -1, -1, 0, 0, -1, 1, 0, 0, 1, 0, 1, 1, 1, 1, 1, 1, 1, 1, 1, 1, 1, 1, 0, 0, -1, -1, 0, -1, -1, 1, 0, 0, -1, -1, -1, 0, 1, -1, -1, 1, -1, -1, 0, -1, -1, -1, -1, -1, -1, -1, 1, 0, -1, 1, 1, 1, 1, 0, -1, -1, 1, 0, 1, 0, 1, 1, 1, 0, -1, 1, -1, -1, -1, 1, 1, -1, -1, -1, -1, -1, 0, 0, 1, -1, 0, 0, -1, 1, 0, -1, -1, 1, 1, 1, 1, 1, 1, 0, 0, 1, 1, 0, 0, 0, 1, 1, 1, 0, 0, -1, 0, 1, -1, 0, 0, 0, 0, 0, 0, -1, 0, -1, -1, -1, -1, 0, -1, -1, 1, 0, 0, 0, -1, -1, 1, -1, 0, 0, 0, 0, 0, 0, 0, 0, -1, 1, 0, 0, 1, 0, -1, -1, 1, 0, -1, -1, -1, 0, 0, -1, -1, 1, 0, 1, 1, 1, 1, 0, 0, 0, 1, 1, 1, 0, 0, 1, 1, 1, 0, 1, 0, 1, 1, 1, 1, 1, 1, 1, 1, 1, 1, 1, 1, 1, -1, -1, -1, -1, -1, -1, -1, -1, -1, 0, -1, 0, -1, 0, -1, 0, -1, -1, -1, 1, 0, 0, 0, 1, -1, -1, -1, -1, 1, 1, 1, 1, 1, 0, 1, -1, 1, -1, 1, 1, 1, 1, 1, -1, 1, 1, 1, 1, 1, 1, -1, 0, 1, 1, 1, 1, 0, 1, 1, 1, 1, 1, 1, -1, 1, -1, -1, -1, 0, 0, 1, 1, 1, -1, 1, 0, -1, 0, 0, 0, -1, 0, 1, 1, 1, 1, 0, 0, -1, 1, 1, 1, 1, 1, 1, 1, 0, 0, -1, 0, 0, -1, 1, 1, 0, 0, -1, -1, -1, 0, -1, -1, -1, -1, -1, -1, -1, -1, 0, 1, 0, 0, -1, -1, -1, -1, -1, -1, 0, 0, -1, 0, -1, -1, -1, 1, -1, -1, -1, -1, 0, 0, 1, -1, -1, 1, 0, 0, 0, 0, 0, 1, -1, 0, -1, -1, -1, -1, -1, -1, -1, -1, -1, 0, -1, 0, -1, -1, -1, -1, -1, 1, 0, -1, -1, -1, 0, -1, -1, -1, 0, 0, -1, 0, -1, 0, 0, 0, -1, -1, -1, -1, -1, -1, -1, -1, -1, 1, -1, -1, 0, -1, 0, 0, 0, 0, 0, 0, 0, 0, 0, 1, 1, 1, 1, 1, 1, 1, 1, 1, 1, 1, 1, 0, 1, 0, 1, 0, -1, -1, -1, -1, -1, -1, -1, 1, -1, -1, 0, -1, -1, -1, 1, -1, -1, 0, 1, 0, 1, 0, 0, 0, 0, -1, -1, -1, -1, -1, 0, -1, -1, -1, -1, -1, 0, 0, 0, 0, 0, 0, 0, 1, 0, 0, 1, -1, -1, -1, -1, -1, -1, -1, -1, -1, -1, 1, -1, -1, 0, 0, 1, 0, 0, 0, 0, 0, 0, 0, -1, 0, -1, -1, 0, -1, -1, -1, -1, 0, -1, -1, 0, 0, -1, 0, 0, 0, 0, -1, -1, 0, 0, 0, 0, 0, 0, 0, 1, 1, 1, 1, 1, 1, 1, 1, 1, 1, 0, 1, 1, 1, 1, -1, 0, 0, -1, 1, 1, 1, 1, 1, 1, -1, 1, 0, 0, -1, 0, 0, 0, -1, -1, 0, 0, 0, 0, 0, 0, -1, -1, 1, -1, -1, 0, -1, 0, -1, 1, 0, 1, 1, 1, 1, 1, 1, 1, 1, 1, 1, 1, 1, 0, 1, 1, 0, 1, 1, 1, 0, 1, 1, 1, 1, 1, 0, 1, 1, 1, 1, 0, 1, 1, 1, 1, 1, 1, 0, 0, -1, 1, 1, 0, 1, 1, 1, 1, 1, 1, 1, 0, 1, 0, -1, 0, 1, 0, 0, 1, 0, 0, 0, 0, 0, 1, 1, 1, 0, 1, 1, 0, 1, 1, 1, 0, 1, 1, 1, 1, 1, 1, 1, 0, 1, 0, 1, 1, 1, 0, 1, 1, 1, 1, 1, 1, 1, 0, 1, 1, 1, 1, 1, 0, -1, -1, 0, 1, 0, 1, 1, 0, 0, 0, 0, 0, 1, 1, 0, 1, 0, 1, 1, 1, 1, 0, 1, 1, 1, 0, 1, 1, 1, 1, 1, 1, 1, 1, -1, -1, 0, 1, 1, 1, 1, -1, -1, 0, 0, 1, 1, 1, 1, 1, 1, 1, 1, 1, 1, 1, 0, 1, 0, 0, 0, 1, 1, 1, 1, 1, 1, 1, 1, 0, 1, 1, 1, 1, 1, 1, 1, 1, 0, 1, 1, 1, 0, 1, 1, 1, 1, 1, 1, 1, 1, 1, 1, 1, 1, 1, 0, 1, 1, 1, 1, 1, 1, 1, 1, 1, 1, 1, 0, 1, 1, 0, 1, 1, 1, 1, 1, 1, 0, 1, 1, 0, 1, 1, 1, 1, 1, 1, 1, 1, 1, 1, 1, -1, 0, 0, 1, 0, 1, 0, 1, 0, 0, 0, 0, 0, 0, 0, 1, 1, 1, 0, 0, -1, 0, 0, 0, 1, 0, 1, 0, 1, 1, 1, 1, 1, -1, -1, -1, 1, 1, 0, 0, 0, 0, 0, -1, 0, 1, -1, -1, 1, 1, -1, -1, -1, -1, 0, -1, 0, 0, -1, -1, 1, -1, 1, 1, 0, 0, 0, 0, -1, 0, 0, 0, 0, 0, 0, 0, 1, -1, 1, -1, 1, 0, 0, 0, 0, 0, 0, 0, -1, -1, 0, 0, -1, -1, -1, -1, -1, 0, 1, 0, 1, 0, 0, 1, 1, -1, 1, 1, 1, 1, 1, 1, 0, 0, 0, 0, 0, 0, 0, 1, 0, 0, 0, 0, 1, -1, -1, 1, 1, 1, 0, 1, 1, 0, -1, 0, 0, 0, -1, -1, -1, -1, 0, -1, 0, -1, 0, -1, -1, 0, -1, -1, 0, 0, 0, 0, -1, -1, -1, -1, -1, -1, -1, -1, -1, -1, 0, 1, -1, -1, -1, -1, -1, -1, 0, -1, -1, -1, 0, -1, -1, -1, -1, 0, 0, 0, 0, 0, 0, -1, 0, 0, -1, -1, -1, -1, -1, -1, -1, -1, -1, -1, -1, -1, -1, -1, 0, -1, -1, 0, -1, 0, -1, -1, -1, -1, -1, 0, -1, -1, 0, 1, 1, 0, -1, 0, -1, -1, 0, -1, 1, 1, 1, -1, -1, -1, -1, -1, 1, 1, 0, 0, 1, 0, 0, -1, -1, -1, -1, -1, -1, 0, -1, 0, -1, -1, 0, -1, -1, -1, -1, 0, -1, 0, 0, 0, -1, -1, -1, 0, 0, 0, 0, 0, 0, -1, -1, -1, -1, -1, 0, 0, 0, 1, 0, 1, -1, 0, 0, 0, 0, -1, -1, 0, 0, 0, -1, 0, -1, -1, -1, -1, -1, -1, -1, -1, -1, 1, 1, 1, 1, 1, -1, -1, -1, -1, 0, -1, -1, 0, -1, -1, 0, 1, 0, 0, 1, 0, 1, 0, 0, -1, 0, -1, -1, 1, 0, 0, 0, 1, 0, 0, 0, 1, 1, 1, -1, 1, -1, 1, 1, 1, 0, 0, 0, 1, 1, 0, 0, 0, 1, 1, 1, 1, 1, 1, 1, 1, 1, 1, 1, 1, 1, 1, 0, 1, 1, 1, 1, 0, 1, 1, 1, 1, 1, 0, 0, 1, 0, 1, 1, 0, 0, 0, 1, 1, 1, 0, 1, 1, 1, 1, -1, 0, -1, 0, 0, 1, 1, 0, 0, 1, 0, 0, 0, 1, 1, 1, 0, 1, 1, 1, 1, 1, 1, 1, 0, 0, 1, 1, 0, 0, 1, 1, 1, 0, -1, 1, 1, 0, -1, 1, 1, 1, 1, 0, 1, 1, 1, 1, 0, 1, 0, 0, 1, 0, 0, 1, -1, -1, -1, 0, 0, 0, 1, 0, 0, 0, 0, 0, 0, 0, 0, 0, 1, 1, 0, 1, 0, 0, 0, 1, 1, 1, 0, 0, 0, 0, 0, 0, 0, 0, 0, 0, 1, 1, 1, 0, 0, 1, 1, 1, 1, 1, 1, 1, 1, 1, 1, 1, 1, 1, 1, 1, 0, -1, 0, 0, 0, 0, 0, 0, 0, 0, 1, 1, 0, 0, 0, 0, 0, 1, 1, 0, 1, 0, 0, 0, 1, 1, 1, 0, 1, 0, 1, -1, -1, -1, -1, -1, 0, -1, -1, -1, 0, 1, 1, 0, 1, 1, 0, 1, 1, -1, -1, -1, 0, 1, 1, -1, 1, 1, 0, 1, 0, 0, 1, -1, 0, 0, 0, 0, 1, 0, 0, 1, 1, 1, 0, 0, 0, 1, 0, 0, 1, 0, 1, 1, 0, 1, 0, 0, 0, 1, 1, 1, 1, 1, 0, 1, 1, 0, 1, 1, 1, 1, 0, 1, 1, 0, 1, 1, 0, 0, 0, 0, 1, 1, 1, -1, -1, -1, 0, 0, -1, 0, 0, 0, 1, 0, -1, 0, 0, -1, -1, 1, -1, 1, -1, 1, 1, -1, 1, 0, 0, 0, 0, 0, 0, 1, 1, 1, 0, 0, 0, 0, 0, 0, 0, 0, 0, 0, 0, 0, 0, -1, 0, 1, 1, 0, 1, 0, 0, 0, -1, 0, -1, 1, 0, 0, -1, 0, 1, -1, 1, 1, 0, 1, -1, -1, 0, -1, 0, 0, 1, 0, 1, 1, 1, 1, 0, 1, 0, 0, 1, 1, 0, 0, 0, 0, 1, 0, 0, 0, 0, 0, 0, 0, 1, 1, 0, 0, 0, 0, 0, 0, 0, 1, 1, 1, 0, 1, 1, 0, 0, -1, -1, 0, 1, 1, 0, 1, 0, 1, 0, 1, 0, 0, -1, 0, 0, -1, -1, -1, 0, 0, 0, 0, 1, 1, 1, 1, 1, -1, 1, 1, 1, 1, 1, 1, -1, 0, 1, -1, 0, -1, 0, 0, -1, -1, -1, 0, -1, 0, 0, 0, 0, -1, -1, 0, 0, -1, 0, -1, 0, -1, 0, -1, -1, 0, 0, 0, 1, 1, 0, 0, 0, 1, 1, 0, 0, -1, -1, -1, -1, 0, 1, 1, 1, 1, 1, 1, 1, 0, 0, 1, 1, 1, 0, 1, 0, 0, 1, 1, 1, 1, 1, 1, 1, 1, 1, 1, 1, 1, -1, -1, -1, 1, 0, -1, -1, -1, -1, 0, 0, 0, 0, 0, -1, -1, 0, 0, -1, -1, 1, 0, 0, -1, -1, 0, 1, -1, -1, 1, 0, 0, 0, 0, 0, 0, 0, 0, 0, 0, 0, 1, 1, 1, -1, 0, 1, -1, -1, -1, 0, 1, 0, 0, 1, 1, 1, 1, 1, 1, 1, 1, 1, 0, 0, 0, 1, -1, -1, 0, 0, -1, 0, 1, 0, 1, -1, 1, 1, 1, -1, -1, 0, 1, 1, 1, 1, 1, 0, 0, 1, 1, 1, 1, 0, 1, 1, 1, 1, -1, 1, 1, 1, -1, 0, 1, -1, 1, -1, 0, 1, -1, 1, -1, 1, -1, -1, -1, -1, -1, -1, -1, -1, -1, -1, -1, -1, -1, 1, 1, 0, 1, 0, 1, 1, 0, 0, 1, 1, 0, 0, 0, 0, 0, 0, 0, 0, 0, 0, 0, 1, 1, 1, 1, 1, 0, 1, 0, 1, 1, 0, 0, 1, 1, 1, 1, -1, 0, 1, 1, 1, 1, -1, 1, 1, 0, -1, 0, 1, -1, 1, -1]\n"
     ]
    }
   ],
   "source": [
    "x_pca = PCA(n_components=100).fit_transform(x_train)\n",
    "y_train = y_train.values.flatten().tolist()\n",
    "print(x_pca)\n",
    "print(y_train)"
   ]
  },
  {
   "cell_type": "code",
   "execution_count": 70,
   "metadata": {},
   "outputs": [
    {
     "name": "stdout",
     "output_type": "stream",
     "text": [
      "Strat training muti-class svm classifier...\n",
      "Training is done.\n",
      "Saving model to 2015_core\\model\\svm.model...\n",
      "Saving model done.\n"
     ]
    }
   ],
   "source": [
    "clf = svm.SVC(C=2,decision_function_shape='ovr')\n",
    "print('Strat training muti-class svm classifier...')\n",
    "clf.fit(x_pca, y_train)\n",
    "print(\"Training is done.\")\n",
    "svm_model = path.join('2015_core','model', 'svm.model')\n",
    "print(\"Saving model to {}...\".format(svm_model))\n",
    "with open(svm_model, 'wb') as f:\n",
    "    pickle.dump(clf, f)\n",
    "print(\"Saving model done.\")"
   ]
  },
  {
   "cell_type": "code",
   "execution_count": 71,
   "metadata": {},
   "outputs": [
    {
     "name": "stdout",
     "output_type": "stream",
     "text": [
      "Test training accuracy: 0.672945\n"
     ]
    }
   ],
   "source": [
    "print('Test training accuracy: %2f' % clf.score(x_pca, y_train))"
   ]
  },
  {
   "cell_type": "code",
   "execution_count": 13,
   "metadata": {},
   "outputs": [
    {
     "name": "stdout",
     "output_type": "stream",
     "text": [
      "Strat training 2-class svm classifier...\n",
      "Training is done.\n",
      "Saving model to 2015_core\\model\\svm_two.model...\n",
      "Saving model done.\n",
      "Test training accuracy: 0.820355\n"
     ]
    }
   ],
   "source": [
    "two_y = [0 if y == -1 else y for y in y_train]\n",
    "two_clf = svm.SVC(C = 4, probability=True)\n",
    "print('Strat training 2-class svm classifier...')\n",
    "two_clf.fit(x_pca, two_y)\n",
    "print(\"Training is done.\")\n",
    "svm_model = path.join('2015_core','model', 'svm_two.model')\n",
    "print(\"Saving model to {}...\".format(svm_model))\n",
    "with open(svm_model, 'wb') as f:\n",
    "    pickle.dump(two_clf, f)\n",
    "print(\"Saving model done.\")\n",
    "print('Test training accuracy: %2f' % two_clf.score(x_pca, two_y))"
   ]
  },
  {
   "cell_type": "code",
   "execution_count": 16,
   "metadata": {},
   "outputs": [
    {
     "name": "stdout",
     "output_type": "stream",
     "text": [
      "Strat training linear svm classifier...\n",
      "Training is done.\n",
      "Saving model to 2015_core\\model\\svm_lin.model...\n",
      "Saving model done.\n",
      "Test training accuracy: 0.586382\n"
     ]
    }
   ],
   "source": [
    "lin_clf = svm.LinearSVC()\n",
    "print('Strat training linear svm classifier...')\n",
    "lin_clf.fit(x_pca, y_train)\n",
    "print(\"Training is done.\")\n",
    "svm_model = path.join('2015_core','model', 'svm_lin.model')\n",
    "print(\"Saving model to {}...\".format(svm_model))\n",
    "with open(svm_model, 'wb') as f:\n",
    "    pickle.dump(two_clf, f)\n",
    "print(\"Saving model done.\")\n",
    "print('Test training accuracy: %2f' % two_clf.score(x_pca, y_train))"
   ]
  },
  {
   "cell_type": "code",
   "execution_count": 66,
   "metadata": {},
   "outputs": [
    {
     "name": "stdout",
     "output_type": "stream",
     "text": [
      "training svm for C=1.0\n",
      "Test training accuracy: 0.637681\n",
      "training svm for C=1.2\n",
      "Test training accuracy: 0.647343\n",
      "training svm for C=1.4\n",
      "Test training accuracy: 0.649758\n",
      "training svm for C=1.6\n",
      "Test training accuracy: 0.654589\n",
      "training svm for C=1.8\n",
      "Test training accuracy: 0.664251\n",
      "training svm for C=2.0\n",
      "Test training accuracy: 0.681159\n",
      "training svm for C=2.2\n",
      "Test training accuracy: 0.688406\n",
      "training svm for C=2.4\n",
      "Test training accuracy: 0.695652\n",
      "training svm for C=2.6\n",
      "Test training accuracy: 0.695652\n",
      "training svm for C=2.8\n",
      "Test training accuracy: 0.698068\n",
      "training svm for C=3.0\n",
      "Test training accuracy: 0.712560\n",
      "training svm for C=3.2\n",
      "Test training accuracy: 0.717391\n",
      "training svm for C=3.4\n",
      "Test training accuracy: 0.727053\n",
      "training svm for C=3.6\n",
      "Test training accuracy: 0.729469\n",
      "training svm for C=3.8\n",
      "Test training accuracy: 0.734300\n",
      "training svm for C=4.0\n",
      "Test training accuracy: 0.734300\n",
      "training svm for C=4.2\n",
      "Test training accuracy: 0.739130\n",
      "training svm for C=4.4\n",
      "Test training accuracy: 0.746377\n",
      "training svm for C=4.6\n",
      "Test training accuracy: 0.746377\n",
      "training svm for C=4.8\n",
      "Test training accuracy: 0.748792\n",
      "training svm for C=5.0\n",
      "Test training accuracy: 0.751208\n",
      "training svm for C=5.2\n",
      "Test training accuracy: 0.751208\n",
      "training svm for C=5.4\n",
      "Test training accuracy: 0.748792\n",
      "training svm for C=5.6\n",
      "Test training accuracy: 0.751208\n",
      "training svm for C=5.8\n",
      "Test training accuracy: 0.753623\n",
      "training svm for C=6.0\n",
      "Test training accuracy: 0.753623\n",
      "training svm for C=6.2\n",
      "Test training accuracy: 0.758454\n",
      "training svm for C=6.4\n",
      "Test training accuracy: 0.763285\n",
      "training svm for C=6.6\n",
      "Test training accuracy: 0.765700\n",
      "training svm for C=6.8\n",
      "Test training accuracy: 0.772947\n",
      "training svm for C=7.0\n",
      "Test training accuracy: 0.780193\n",
      "training svm for C=7.2\n",
      "Test training accuracy: 0.782609\n",
      "training svm for C=7.4\n",
      "Test training accuracy: 0.785024\n",
      "training svm for C=7.6\n",
      "Test training accuracy: 0.785024\n",
      "training svm for C=7.8\n",
      "Test training accuracy: 0.785024\n",
      "training svm for C=8.0\n",
      "Test training accuracy: 0.792271\n"
     ]
    }
   ],
   "source": [
    "import numpy as np\n",
    "def predict_score(x_set,y_set,clf):\n",
    "    result = clf.predict(x_set)\n",
    "    correct = 1\n",
    "    for i in range(len(x_set)):\n",
    "        if result[i] == y_set[i]:\n",
    "            correct += 1\n",
    "    return correct/len(x_set)\n",
    "C_values = np.arange(1, 8.2, .2)\n",
    "C_values = [round(c,1) for c in C_values]\n",
    "# train_size = int(len(x_pca)*0.8)\n",
    "train_size = int(len(x_pca)*0.15)\n",
    "# x_pca_train = x_pca[:train_size]\n",
    "# labels_train = y_train[:train_size]\n",
    "# x_pca_test = x_pca[train_size:]\n",
    "# labels_test = y_train[train_size:]\n",
    "x_pca_test = x_pca[:train_size]\n",
    "labels_test = y_train[:train_size]\n",
    "svc_accuracy=[]\n",
    "for c in C_values:\n",
    "    tmp_clf = svm.SVC(C=c, decision_function_shape='ovr')\n",
    "    print(\"training svm for C={}\".format(c))\n",
    "    tmp_clf.fit(x_pca, y_train)\n",
    "#     tmp_clf.fit(x_pca_train, labels_train)\n",
    "    accuracy = tmp_clf.score(x_pca_test, labels_test)\n",
    "#    accuracy = predict_score(x_pca_test, labels_test, tmp_clf)\n",
    "    print('Test training accuracy: %2f' % accuracy)\n",
    "    svc_accuracy.append(accuracy)\n"
   ]
  },
  {
   "cell_type": "code",
   "execution_count": 67,
   "metadata": {},
   "outputs": [
    {
     "data": {
      "image/png": "[encoded data removed]",
      "text/plain": [
       "<Figure size 288x216 with 1 Axes>"
      ]
     },
     "metadata": {},
     "output_type": "display_data"
    }
   ],
   "source": [
    "plt.figure(1, figsize=(4, 3))\n",
    "plt.clf()\n",
    "plt.plot(C_values, svc_accuracy, linewidth=2)\n",
    "plt.axis('tight')\n",
    "plt.xlabel('C')\n",
    "plt.ylabel('accuracy')\n",
    "plt.show()"
   ]
  },
  {
   "cell_type": "code",
   "execution_count": 72,
   "metadata": {},
   "outputs": [
    {
     "name": "stdout",
     "output_type": "stream",
     "text": [
      "0.6729445852951829\n"
     ]
    }
   ],
   "source": [
    "rbf_clf = svm.SVC(C=2.0, kernel='rbf', decision_function_shape='ovr',gamma='auto')\n",
    "rbf_clf.fit(x_pca, y_train)\n",
    "print(rbf_clf.score(x_pca, y_train))\n"
   ]
  },
  {
   "cell_type": "code",
   "execution_count": 75,
   "metadata": {},
   "outputs": [
    {
     "name": "stdout",
     "output_type": "stream",
     "text": [
      "0.5852951829047447\n"
     ]
    }
   ],
   "source": [
    "lin_clf = svm.SVC(C=2.0, kernel='linear', decision_function_shape='ovr')\n",
    "lin_clf.fit(x_pca,y_train)\n",
    "print(lin_clf.score(x_pca,y_train))"
   ]
  },
  {
   "cell_type": "code",
   "execution_count": null,
   "metadata": {},
   "outputs": [],
   "source": []
  }
 ],
 "metadata": {
  "kernelspec": {
   "display_name": "Python 3",
   "language": "python",
   "name": "python3"
  },
  "language_info": {
   "codemirror_mode": {
    "name": "ipython",
    "version": 3
   },
   "file_extension": ".py",
   "mimetype": "text/x-python",
   "name": "python",
   "nbconvert_exporter": "python",
   "pygments_lexer": "ipython3",
   "version": "3.5.2"
  }
 },
 "nbformat": 4,
 "nbformat_minor": 2
}
