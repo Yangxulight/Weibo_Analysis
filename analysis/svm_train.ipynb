{
 "cells": [
  {
   "cell_type": "code",
   "execution_count": 1,
   "metadata": {},
   "outputs": [],
   "source": [
    "import sys\n",
    "import pickle\n",
    "from os import path\n",
    "import numpy as np\n",
    "from sklearn import svm\n",
    "from sklearn import metrics\n",
    "from sklearn.decomposition import PCA\n",
    "import matplotlib.pyplot as plt\n",
    "import pandas as pd"
   ]
  },
  {
   "cell_type": "code",
   "execution_count": 2,
   "metadata": {},
   "outputs": [],
   "source": [
    "df = pd.read_csv(path.join('2015_core', 'train_set.csv'))\n",
    "y_train =df.iloc[:, 1:2]\n",
    "x_train = df.iloc[:, 2:]"
   ]
  },
  {
   "cell_type": "code",
   "execution_count": 3,
   "metadata": {},
   "outputs": [
    {
     "data": {
      "text/plain": [
       "PCA(copy=True, iterated_power='auto', n_components=400, random_state=None,\n",
       "  svd_solver='auto', tol=0.0, whiten=False)"
      ]
     },
     "execution_count": 3,
     "metadata": {},
     "output_type": "execute_result"
    }
   ],
   "source": [
    "# PCA decompisition\n",
    "n_components = 400\n",
    "pca = PCA(n_components=n_components)\n",
    "pca.fit(x_train)\n"
   ]
  },
  {
   "cell_type": "code",
   "execution_count": 4,
   "metadata": {},
   "outputs": [
    {
     "data": {
      "image/png": "[encoded data removed]",
      "text/plain": [
       "<Figure size 288x216 with 1 Axes>"
      ]
     },
     "metadata": {},
     "output_type": "display_data"
    }
   ],
   "source": [
    "# PCA plot\n",
    "plt.figure(1, figsize=(4, 3))\n",
    "plt.clf()\n",
    "plt.axes([.2, .2, .7, .7])\n",
    "plt.plot(pca.explained_variance_, linewidth=2)\n",
    "plt.axis('tight')\n",
    "plt.xlabel('n_components')\n",
    "plt.ylabel('explained_variance_')\n",
    "plt.show()"
   ]
  },
  {
   "cell_type": "code",
   "execution_count": 5,
   "metadata": {},
   "outputs": [
    {
     "name": "stdout",
     "output_type": "stream",
     "text": [
      "[6.58201267e+00 3.92034092e+00 3.68197379e+00 1.63903934e+00\n",
      " 1.31228008e+00 1.23123083e+00 1.17114123e+00 1.07376970e+00\n",
      " 1.00500351e+00 9.76564555e-01 9.24265993e-01 8.84265009e-01\n",
      " 8.45242629e-01 7.29966904e-01 6.80299912e-01 6.53585044e-01\n",
      " 6.32263048e-01 6.02593539e-01 5.61699666e-01 5.51703460e-01\n",
      " 5.31307123e-01 4.94440044e-01 4.76748560e-01 4.69374298e-01\n",
      " 4.48274943e-01 4.38257831e-01 4.35679250e-01 4.05906003e-01\n",
      " 4.01156172e-01 3.94586529e-01 3.74236804e-01 3.69319948e-01\n",
      " 3.58172523e-01 3.49785217e-01 3.41028551e-01 3.33066697e-01\n",
      " 3.23138849e-01 3.05880384e-01 2.94358463e-01 2.85901957e-01\n",
      " 2.78840783e-01 2.75608532e-01 2.69797763e-01 2.67291052e-01\n",
      " 2.61803216e-01 2.51516714e-01 2.39747824e-01 2.37689147e-01\n",
      " 2.34246091e-01 2.32598009e-01 2.22398395e-01 2.18978841e-01\n",
      " 2.15641787e-01 2.11108848e-01 2.07623977e-01 2.02293655e-01\n",
      " 1.98876745e-01 1.96251929e-01 1.95063186e-01 1.90501896e-01\n",
      " 1.86952659e-01 1.82036763e-01 1.79505270e-01 1.75747811e-01\n",
      " 1.75151991e-01 1.68391966e-01 1.67422482e-01 1.65770321e-01\n",
      " 1.64318984e-01 1.60465875e-01 1.57589702e-01 1.55697258e-01\n",
      " 1.51568619e-01 1.48040357e-01 1.47256660e-01 1.45471381e-01\n",
      " 1.42572829e-01 1.40743745e-01 1.38113404e-01 1.36105529e-01\n",
      " 1.35281158e-01 1.34266357e-01 1.32894379e-01 1.30276288e-01\n",
      " 1.30018397e-01 1.28769023e-01 1.26393273e-01 1.25646810e-01\n",
      " 1.23097526e-01 1.21599229e-01 1.18955756e-01 1.17940344e-01\n",
      " 1.16107408e-01 1.14547928e-01 1.12020207e-01 1.11697213e-01\n",
      " 1.11182254e-01 1.07597288e-01 1.06505683e-01 1.05800461e-01\n",
      " 1.03914954e-01 1.02712672e-01 1.02096199e-01 1.00603089e-01\n",
      " 9.98517115e-02 9.88157887e-02 9.67597003e-02 9.56258580e-02\n",
      " 9.41133289e-02 9.35899900e-02 9.19221048e-02 9.10905772e-02\n",
      " 8.89440639e-02 8.82492237e-02 8.75184860e-02 8.66281966e-02\n",
      " 8.58467699e-02 8.48918731e-02 8.35390890e-02 8.28131166e-02\n",
      " 8.09221129e-02 8.08150219e-02 7.99800011e-02 7.87354962e-02\n",
      " 7.85199633e-02 7.75446261e-02 7.64945135e-02 7.61977179e-02\n",
      " 7.50731324e-02 7.42375112e-02 7.33815773e-02 7.28287551e-02\n",
      " 7.22882238e-02 7.08545198e-02 7.01009322e-02 6.97221387e-02\n",
      " 6.85408331e-02 6.71862413e-02 6.64702483e-02 6.63464636e-02\n",
      " 6.45500269e-02 6.38837960e-02 6.34737892e-02 6.27400006e-02\n",
      " 6.15836124e-02 6.11763254e-02 6.07415406e-02 5.95903560e-02\n",
      " 5.95656446e-02 5.91973250e-02 5.84329926e-02 5.77501860e-02\n",
      " 5.71386138e-02 5.66921319e-02 5.58085441e-02 5.52600327e-02\n",
      " 5.50610589e-02 5.41203410e-02 5.38918838e-02 5.33644678e-02\n",
      " 5.28060608e-02 5.19716135e-02 5.16778404e-02 5.12389276e-02\n",
      " 5.07744393e-02 5.03691152e-02 4.97932970e-02 4.92569650e-02\n",
      " 4.87762959e-02 4.81555834e-02 4.75672419e-02 4.72654179e-02\n",
      " 4.70493842e-02 4.65878656e-02 4.59189238e-02 4.53179943e-02\n",
      " 4.48015468e-02 4.39071619e-02 4.36740670e-02 4.31072095e-02\n",
      " 4.25499326e-02 4.14082714e-02 4.12658677e-02 4.11313261e-02\n",
      " 4.09935916e-02 4.03845678e-02 4.03236804e-02 4.02142066e-02\n",
      " 3.92674332e-02 3.89107222e-02 3.87740222e-02 3.78254912e-02\n",
      " 3.76434650e-02 3.74979757e-02 3.73131926e-02 3.66981433e-02\n",
      " 3.62304794e-02 3.61029488e-02 3.55700504e-02 3.50948625e-02\n",
      " 3.48659308e-02 3.43085614e-02 3.41841453e-02 3.35242181e-02\n",
      " 3.31843710e-02 3.27876141e-02 3.26493180e-02 3.22337185e-02\n",
      " 3.14662841e-02 3.11841532e-02 3.08031196e-02 3.04614110e-02\n",
      " 3.02977823e-02 2.98714855e-02 2.95429681e-02 2.92306082e-02\n",
      " 2.90504610e-02 2.87542034e-02 2.84553845e-02 2.83346524e-02\n",
      " 2.77228309e-02 2.76778108e-02 2.73717150e-02 2.70237927e-02\n",
      " 2.66855968e-02 2.64234184e-02 2.61390128e-02 2.58938057e-02\n",
      " 2.55248112e-02 2.52840607e-02 2.51473905e-02 2.49644259e-02\n",
      " 2.46155751e-02 2.44919410e-02 2.41019928e-02 2.38967602e-02\n",
      " 2.37416713e-02 2.33734017e-02 2.33567301e-02 2.32271884e-02\n",
      " 2.26784845e-02 2.26018440e-02 2.25175293e-02 2.21526485e-02\n",
      " 2.17909072e-02 2.16759803e-02 2.14804742e-02 2.13083624e-02\n",
      " 2.10847110e-02 2.07055511e-02 2.05246632e-02 2.03239229e-02\n",
      " 2.01849380e-02 2.00847749e-02 1.99186963e-02 1.97845919e-02\n",
      " 1.95513879e-02 1.93590665e-02 1.89508591e-02 1.89085139e-02\n",
      " 1.87671915e-02 1.85236962e-02 1.82622462e-02 1.81151444e-02\n",
      " 1.79255514e-02 1.76965728e-02 1.75616017e-02 1.72940975e-02\n",
      " 1.71273905e-02 1.67040155e-02 1.66373980e-02 1.66107633e-02\n",
      " 1.64890711e-02 1.62569926e-02 1.59364832e-02 1.58086360e-02\n",
      " 1.53856313e-02 1.52906669e-02 1.51695777e-02 1.50412410e-02\n",
      " 1.49454497e-02 1.46989846e-02 1.44739841e-02 1.44253913e-02\n",
      " 1.42624610e-02 1.41671344e-02 1.39134716e-02 1.38847031e-02\n",
      " 1.36807747e-02 1.35170510e-02 1.34500681e-02 1.33027980e-02\n",
      " 1.30510680e-02 1.29826272e-02 1.29190249e-02 1.28505761e-02\n",
      " 1.27624429e-02 1.26068359e-02 1.24936310e-02 1.23407255e-02\n",
      " 1.20420534e-02 1.18983126e-02 1.18024101e-02 1.16845969e-02\n",
      " 1.14071470e-02 1.13819975e-02 1.13180847e-02 1.12036165e-02\n",
      " 1.10869184e-02 1.09730763e-02 1.08189130e-02 1.06986981e-02\n",
      " 1.05984167e-02 1.04293596e-02 1.02431365e-02 1.01936182e-02\n",
      " 1.01144338e-02 1.00798548e-02 9.92264439e-03 9.87645179e-03\n",
      " 9.71215698e-03 9.65337689e-03 9.48014319e-03 9.41044742e-03\n",
      " 9.25069930e-03 9.06238237e-03 8.99350176e-03 8.86085677e-03\n",
      " 8.77469435e-03 8.75509082e-03 8.56033930e-03 8.41652080e-03\n",
      " 8.40390214e-03 8.34447336e-03 8.14702931e-03 8.05087652e-03\n",
      " 8.00793564e-03 7.90834818e-03 7.86695034e-03 7.73754664e-03\n",
      " 7.58196078e-03 7.41111632e-03 7.29853111e-03 7.28450867e-03\n",
      " 7.17399394e-03 6.99750434e-03 6.96422251e-03 6.86086204e-03\n",
      " 6.84039518e-03 6.72145887e-03 6.62674366e-03 6.49262413e-03\n",
      " 6.46317292e-03 6.43052466e-03 6.37306917e-03 6.29788030e-03\n",
      " 6.19218094e-03 6.09735613e-03 5.97408375e-03 5.94229494e-03\n",
      " 5.80221057e-03 5.69344135e-03 5.62308547e-03 5.53210990e-03\n",
      " 5.51112034e-03 5.38073574e-03 5.31929479e-03 5.25081521e-03\n",
      " 5.18322821e-03 5.09861030e-03 4.96370207e-03 4.94771872e-03\n",
      " 4.87634884e-03 4.84157317e-03 4.59118789e-03 4.55891241e-03\n",
      " 4.52741513e-03 4.39204370e-03 4.34442391e-03 4.28241291e-03\n",
      " 4.25029906e-03 4.16335610e-03 4.04131253e-03 3.95546916e-03\n",
      " 3.88002556e-03 3.82312233e-03 3.71753480e-03 3.64931406e-03\n",
      " 3.57842943e-03 3.50782855e-03 3.40591868e-03 3.28910390e-03\n",
      " 3.24143943e-03 3.19072641e-03 3.06876162e-03 2.96188503e-03\n",
      " 2.88716582e-03 2.83039399e-03 2.80794195e-03 1.69290259e-03]\n"
     ]
    }
   ],
   "source": [
    "print(pca.explained_variance_)"
   ]
  },
  {
   "cell_type": "code",
   "execution_count": 31,
   "metadata": {
    "scrolled": true
   },
   "outputs": [
    {
     "name": "stdout",
     "output_type": "stream",
     "text": [
      "[[ 1.22082258e+00  7.40584303e-01 -1.87216398e+00 ...  1.34198027e-01\n",
      "  -2.48644949e-01  1.33572401e-01]\n",
      " [-1.26302784e+00  4.81877875e-01 -1.30050788e+00 ... -1.85844987e-02\n",
      "  -2.16579190e-01  1.87131579e-01]\n",
      " [-9.50101959e-02  1.01852151e+00 -1.33602114e+00 ... -1.29758252e-03\n",
      "   6.16459860e-02  1.82171447e-01]\n",
      " ...\n",
      " [ 1.01681657e+00  5.43460913e-01  2.21376297e-01 ...  4.42334007e-01\n",
      "  -2.48510295e-01 -1.15379421e-01]\n",
      " [ 1.97677508e+00  7.05305596e-01  3.51785464e+00 ... -1.31268161e-01\n",
      "   2.64418101e-01  1.57293560e-01]\n",
      " [ 1.83653740e+00  9.97654573e-01 -3.41607904e+00 ... -5.96121879e-02\n",
      "  -7.94794211e-02  1.59707673e+00]]\n",
      "[0, -1, 0, -1, 0, 0, 0, 0, 0, 0, 0, 1, 1, 1, 1, 1, 0, 0, 0, 0, 1, 1, 1, 1, 0, 0, -1, -1, -1, -1, 1, 1, 1, 0, 1, 1, -1, 1, 1, -1, 1, 0, 0, -1, -1, -1, -1, -1, -1, -1, -1, -1, -1, -1, -1, 0, -1, 1, 1, 1, 1, 1, 1, 0, 1, 1, 1, -1, 1, -1, 1, -1, -1, -1, -1, 0, 0, -1, -1, 0, 0, -1, 0, 1, 0, 0, -1, 1, 0, 0, 0, 0, 0, 1, 1, 0, 0, 1, 0, 0, 1, 1, 0, 1, 1, 1, 1, 1, 1, 1, 1, 0, 0, 0, 0, 1, 1, 1, 1, 1, 0, -1, 0, 0, 0, 0, 0, -1, -1, 0, 0, 1, 1, 0, 0, 0, 0, 1, 1, 0, 1, -1, 0, -1, -1, 0, 0, 1, 0, 1, 1, 1, 0, 0, -1, 0, 1, 1, 0, -1, -1, -1, 1, 0, 1, 1, 1, 0, 0, 1, 1, 1, 1, 1, 1, 1, 1, 1, 0, 1, 1, 0, 0, 0, 0, 1, 0, 0, 0, 1, 1, -1, 0, 0, -1, 0, 0, -1, -1, 1, -1, 0, 1, 1, 0, 1, -1, 1, 1, 1, 1, 1, 0, 0, 0, 0, -1, 0, 0, -1, -1, 0, 1, 1, 1, 1, 0, 0, 0, 0, 0, 0, 0, 0, 0, 0, 1, 0, 0, 0, -1, -1, -1, 1, 1, 1, 1, -1, 0, 1, 1, 1, 1, 1, 1, 1, 0, 0, 0, -1, 0, -1, -1, -1, -1, 0, -1, 0, 1, 1, 0, 0, 0, 0, 0, 0, 1, 0, -1, 1, 0, 0, -1, -1, -1, -1, -1, -1, -1, -1, 0, 1, 0, 0, 0, 0, 0, 0, 0, 0, 0, 0, 0, 0, 0, 0, 0, 0, 0, 1, 0, 0, 0, 0, 0, 0, 0, 0, 1, 1, 0, 0, 0, 0, -1, -1, 1, 0, 0, 0, 1, 0, 1, 1, 1, 0, 1, 1, 1, 0, 0, 1, 1, 0, 0, -1, 0, -1, 1, 0, 0, 0, 0, 0, 0, 0, 1, 1, 1, 1, 1, 0, 1, 0, 1, 1, 1, 0, 1, -1, 0, 1, 1, 1, 1, -1, -1, 1, 0, 0, 1, 1, 1, -1, -1, -1, 0, 0, 0, 1, 1, 1, 1, 1, 1, 1, 1, 0, 1, 0, -1, 0, 0, 0, 0, -1, 0, 0, -1, 1, 1, 1, 0, 0, 0, 1, 0, 0, 0, 1, 1, -1, 0, 1, 0, 1, 1, 1, 0, 1, 1, 1, 0, 0, 0, 0, 0, 0, 0, 0, -1, 0, 0, 0, 0, 0, -1, 0, 0, 0, -1, -1, -1, -1, 1, 1, 0, 1, 0, 0, 0, 1, 0, 1, 0, 1, 1, 1, 1, 0, 0, -1, -1, 0, 1, 0, 0, 1, 0, 1, 0, 0, 0, 1, 0, 1, 0, 0, 0, 0, 0, 1, 1, 1, -1, 0, 1, 0, 1, -1, -1, 0, 0, -1, 0, 0, 0, 0, 1, 0, 0, 1, 0, 0, 0, 0, 1, 1, 0, 0, 0, 0, 0, 0, 0, 1, 1, 0, 0, 0, -1, 0, 0, -1, -1, 0, 0, 1, 1, 0, 0, -1, 0, 0, -1, -1, 1, 1, 0, 0, -1, -1, 0, -1, -1, 1, 0, -1, -1, 0, -1, -1, -1, 0, 0, 1, 1, 1, 0, 0, 1, 0, 0, 0, 0, 0, 0, -1, 0, 0, 0, 0, 0, 0, 1, 1, 0, 0, 0, 0, 1, 1, 1, 0, 1, 1, 1, 1, 1, 1, 1, 1, 1, 0, 1, -1, 1, 1, -1, -1, -1, 0, 1, 1, -1, 1, 1, 1, 1, 1, 0, 1, 0, 0, 0, 0, -1, -1, -1, 0, 0, 0, 0, -1, 0, 0, 0, 0, -1, -1, 0, -1, 0, 0, 0, -1, 0, -1, 0, 0, -1, -1, -1, -1, -1, -1, 0, -1, 0, -1, 0, -1, 0, -1, 0, 0, 0, 1, 1, 0, 1, 0, 1, 1, 1, 1, 1, 1, -1, 1, 0, 1, 1, 1, 0, 1, 1, 0, 1, -1, 0, 1, -1, -1, 0, 0, -1, 0, 0, 0, 0, 0, 1, 1, 1, 1, -1, 1, 0, 0, 1, 1, 1, 1, 1, 1, 1, 0, 1, 0, 1, 1, 0, 0, 0, 1, 0, 0, 0, 0, 0, 0, 1, -1, -1, 0, 0, 1, 0, 0, 0, -1, -1, 1, 1, 1, 1, 1, 1, -1, 0, -1, 1, 1, 1, -1, -1, 0, 0, 0, 0, 0, 0, 0, 0, 0, 0, 0, 0, 0, 0, 0, 0, 0, -1, 0, 0, 0, 1, 0, 0, 1, 1, 1, 1, 1, 1, -1, 1, 0, 0, -1, 0, 0, 0, -1, -1, 0, -1, -1, 0, -1, -1, -1, -1, 0, 0, 0, 0, 0, 0, -1, -1, -1, -1, -1, -1, 0, 0, -1, 0, 0, -1, 0, 1, 0, 0, 0, -1, -1, 0, 0, 1, 0, -1, 1, -1, -1, 0, -1, 0, -1, -1, -1, -1, 0, -1, -1, -1, -1, 0, 0, -1, 1, 1, 1, 1, 1, 0, 1, 1, 1, 1, 1, 0, 1, 1, 1, 1, 1, 1, 0, 0, 1, 1, 0, 0, 1, 1, 1, 1, 1, 0, 1, 1, 1, 1, 1, 0, 1, 0, 1, 1, 1, 0, 1, 1, 1, 1, 0, 0, -1, 0, -1, 0, 1, 1, 0, 0, 0, 1, 0, 0, -1, 1, -1, 1, -1, -1, 0, 0, -1, 1, 0, 0, 1, 0, 1, 1, 1, 1, 1, 1, 1, 1, 1, 1, 1, 1, 0, 0, -1, -1, 0, -1, -1, 1, 0, 0, -1, -1, -1, 0, 1, -1, -1, 1, -1, -1, 0, -1, -1, -1, -1, -1, -1, -1, 1, 0, -1, 1, 1, 1, 1, 0, -1, -1, 1, 0, 1, 0, 1, 1, 1, 0, -1, 1, -1, -1, -1, 1, 1, -1, -1, -1, -1, -1, 0, 0, 1, -1, 0, 0, -1, 1, 0, -1, -1, 1, 1, 1, 1, 1, 1, 0, 0, 1, 1, 0, 0, 0, 1, 1, 1, 0, 0, -1, 0, 1, -1, 0, 0, 0, 0, 0, 0, -1, 0, -1, -1, -1, -1, 0, -1, -1, 1, 0, 0, 0, -1, -1, 1, -1, 0, 0, 0, 0, 0, 0, 0, 0, -1, 1, 0, 0, 1, 0, -1, -1, 1, 0, -1, -1, -1, 0, 0, -1, -1, 1, 0, 1, 1, 1, 1, 0, 0, 0, 1, 1, 1, 0, 0, 1, 1, 1, 0, 1, 0, 1, 1, 1, 1, 1, 1, 1, 1, 1, 1, 1, 1, 1, -1, -1, -1, -1, -1, -1, -1, -1, -1, 0, -1, 0, -1, 0, -1, 0, -1, -1, -1, 1, 0, 0, 0, 1, -1, -1, -1, -1, 1, 1, 1, 1, 1, 0, 1, -1, 1, -1, 1, 1, 1, 1, 1, -1, 1, 1, 1, 1, 1, 1, -1, 0, 1, 1, 1, 1, 0, 1, 1, 1, 1, 1, 1, -1, 1, -1, -1, -1, 0, 0, 1, 1, 1, -1, 1, 0, -1, 0, 0, 0, -1, 0, 1, 1, 1, 1, 0, 0, -1, 1, 1, 1, 1, 1, 1, 1, 0, 0, -1, 0, 0, -1, 1, 1, 0, 0, -1, -1, -1, 0, -1, -1, -1, -1, -1, -1, -1, -1, 0, 1, 0, 0, -1, -1, -1, -1, -1, -1, 0, 0, -1, 0, -1, -1, -1, 1, -1, -1, -1, -1, 0, 0, 1, -1, -1, 1, 0, 0, 0, 0, 0, 1, -1, 0, -1, -1, -1, -1, -1, -1, -1, -1, -1, 0, -1, 0, -1, -1, -1, -1, -1, 1, 0, -1, -1, -1, 0, -1, -1, -1, 0, 0, -1, 0, -1, 0, 0, 0, -1, -1, -1, -1, -1, -1, -1, -1, -1, 1, -1, -1, 0, -1, 0, 0, 0, 0, 0, 0, 0, 0, 0, 1, 1, 1, 1, 1, 1, 1, 1, 1, 1, 1, 1, 0, 1, 0, 1, 0, -1, -1, -1, -1, -1, -1, -1, 1, -1, -1, 0, -1, -1, -1, 1, -1, -1, 0, 1, 0, 1, 0, 0, 0, 0, -1, -1, -1, -1, -1, 0, -1, -1, -1, -1, -1, 0, 0, 0, 0, 0, 0, 0, 1, 0, 0, 1, -1, -1, -1, -1, -1, -1, -1, -1, -1, -1, 1, -1, -1, 0, 0, 1, 0, 0, 0, 0, 0, 0, 0, -1, 0, -1, -1, 0, -1, -1, -1, -1, 0, -1, -1, 0, 0, -1, 0, 0, 0, 0, -1, -1, 0, 0, 0, 0, 0, 0, 0, 1, 1, 1, 1, 1, 1, 1, 1, 1, 1, 0, 1, 1, 1, 1, -1, 0, 0, -1, 1, 1, 1, 1, 1, 1, -1, 1, 0, 0, -1, 0, 0, 0, -1, -1, 0, 0, 0, 0, 0, 0, -1, -1, 1, -1, -1, 0, -1, 0, -1, 1, 0, 1, 1, 1, 1, 1, 1, 1, 1, 1, 1, 1, 1, 0, 1, 1, 0, 1, 1, 1, 0, 1, 1, 1, 1, 1, 0, 1, 1, 1, 1, 0, 1, 1, 1, 1, 1, 1, 0, 0, -1, 1, 1, 0, 1, 1, 1, 1, 1, 1, 1, 0, 1, 0, -1, 0, 1, 0, 0, 1, 0, 0, 0, 0, 0, 1, 1, 1, 0, 1, 1, 0, 1, 1, 1, 0, 1, 1, 1, 1, 1, 1, 1, 0, 1, 0, 1, 1, 1, 0, 1, 1, 1, 1, 1, 1, 1, 0, 1, 1, 1, 1, 1, 0, -1, -1, 0, 1, 0, 1, 1, 0, 0, 0, 0, 0, 1, 1, 0, 1, 0, 1, 1, 1, 1, 0, 1, 1, 1, 0, 1, 1, 1, 1, 1, 1, 1, 1, -1, -1, 0, 1, 1, 1, 1, -1, -1, 0, 0, 1, 1, 1, 1, 1, 1, 1, 1, 1, 1, 1, 0, 1, 0, 0, 0, 1, 1, 1, 1, 1, 1, 1, 1, 0, 1, 1, 1, 1, 1, 1, 1, 1, 0, 1, 1, 1, 0, 1, 1, 1, 1, 1, 1, 1, 1, 1, 1, 1, 1, 1, 0, 1, 1, 1, 1, 1, 1, 1, 1, 1, 1, 1, 0, 1, 1, 0, 1, 1, 1, 1, 1, 1, 0, 1, 1, 0, 1, 1, 1, 1, 1, 1, 1, 1, 1, 1, 1, -1, 0, 0, 1, 0, 1, 0, 1, 0, 0, 0, 0, 0, 0, 0, 1, 1, 1, 0, 0, -1, 0, 0, 0, 1, 0, 1, 0, 1, 1, 1, 1, 1, -1, -1, -1, 1, 1, 0, 0, 0, 0, 0, -1, 0, 1, -1, -1, 1, 1, -1, -1, -1, -1, 0, -1, 0, 0, -1, -1, 1, -1, 1, 1, 0, 0, 0, 0, -1, 0, 0, 0, 0, 0, 0, 0, 1, -1, 1, -1, 1, 0, 0, 0, 0, 0, 0, 0, -1, -1, 0, 0, -1, -1, -1, -1, -1, 0, 1, 0, 1, 0, 0, 1, 1, -1, 1, 1, 1, 1, 1, 1, 0, 0, 0, 0, 0, 0, 0, 1, 0, 0, 0, 0, 1, -1, -1, 1, 1, 1, 0, 1, 1, 0, -1, 0, 0, 0, -1, -1, -1, -1, 0, -1, 0, -1, 0, -1, -1, 0, -1, -1, 0, 0, 0, 0, -1, -1, -1, -1, -1, -1, -1, -1, -1, -1, 0, 1, -1, -1, -1, -1, -1, -1, 0, -1, -1, -1, 0, -1, -1, -1, -1, 0, 0, 0, 0, 0, 0, -1, 0, 0, -1, -1, -1, -1, -1, -1, -1, -1, -1, -1, -1, -1, -1, -1, 0, -1, -1, 0, -1, 0, -1, -1, -1, -1, -1, 0, -1, -1, 0, 1, 1, 0, -1, 0, -1, -1, 0, -1, 1, 1, 1, -1, -1, -1, -1, -1, 1, 1, 0, 0, 1, 0, 0, -1, -1, -1, -1, -1, -1, 0, -1, 0, -1, -1, 0, -1, -1, -1, -1, 0, -1, 0, 0, 0, -1, -1, -1, 0, 0, 0, 0, 0, 0, -1, -1, -1, -1, -1, 0, 0, 0, 1, 0, 1, -1, 0, 0, 0, 0, -1, -1, 0, 0, 0, -1, 0, -1, -1, -1, -1, -1, -1, -1, -1, -1, 1, 1, 1, 1, 1, -1, -1, -1, -1, 0, -1, -1, 0, -1, -1, 0, 1, 0, 0, 1, 0, 1, 0, 0, -1, 0, -1, -1, 1, 0, 0, 0, 1, 0, 0, 0, 1, 1, 1, -1, 1, -1, 1, 1, 1, 0, 0, 0, 1, 1, 0, 0, 0, 1, 1, 1, 1, 1, 1, 1, 1, 1, 1, 1, 1, 1, 1, 0, 1, 1, 1, 1, 0, 1, 1, 1, 1, 1, 0, 0, 1, 0, 1, 1, 0, 0, 0, 1, 1, 1, 0, 1, 1, 1, 1, -1, 0, -1, 0, 0, 1, 1, 0, 0, 1, 0, 0, 0, 1, 1, 1, 0, 1, 1, 1, 1, 1, 1, 1, 0, 0, 1, 1, 0, 0, 1, 1, 1, 0, -1, 1, 1, 0, -1, 1, 1, 1, 1, 0, 1, 1, 1, 1, 0, 1, 0, 0, 1, 0, 0, 1, -1, -1, -1, 0, 0, 0, 1, 0, 0, 0, 0, 0, 0, 0, 0, 0, 1, 1, 0, 1, 0, 0, 0, 1, 1, 1, 0, 0, 0, 0, 0, 0, 0, 0, 0, 0, 1, 1, 1, 0, 0, 1, 1, 1, 1, 1, 1, 1, 1, 1, 1, 1, 1, 1, 1, 1, 0, -1, 0, 0, 0, 0, 0, 0, 0, 0, 1, 1, 0, 0, 0, 0, 0, 1, 1, 0, 1, 0, 0, 0, 1, 1, 1, 0, 1, 0, 1, -1, -1, -1, -1, -1, 0, -1, -1, -1, 0, 1, 1, 0, 1, 1, 0, 1, 1, -1, -1, -1, 0, 1, 1, -1, 1, 1, 0, 1, 0, 0, 1, -1, 0, 0, 0, 0, 1, 0, 0, 1, 1, 1, 0, 0, 0, 1, 0, 0, 1, 0, 1, 1, 0, 1, 0, 0, 0, 1, 1, 1, 1, 1, 0, 1, 1, 0, 1, 1, 1, 1, 0, 1, 1, 0, 1, 1, 0, 0, 0, 0, 1, 1, 1, -1, -1, -1, 0, 0, -1, 0, 0, 0, 1, 0, -1, 0, 0, -1, -1, 1, -1, 1, -1, 1, 1, -1, 1, 0, 0, 0, 0, 0, 0, 1, 1, 1, 0, 0, 0, 0, 0, 0, 0, 0, 0, 0, 0, 0, 0, -1, 0, 1, 1, 0, 1, 0, 0, 0, -1, 0, -1, 1, 0, 0, -1, 0, 1, -1, 1, 1, 0, 1, -1, -1, 0, -1, 0, 0, 1, 0, 1, 1, 1, 1, 0, 1, 0, 0, 1, 1, 0, 0, 0, 0, 1, 0, 0, 0, 0, 0, 0, 0, 1, 1, 0, 0, 0, 0, 0, 0, 0, 1, 1, 1, 0, 1, 1, 0, 0, -1, -1, 0, 1, 1, 0, 1, 0, 1, 0, 1, 0, 0, -1, 0, 0, -1, -1, -1, 0, 0, 0, 0, 1, 1, 1, 1, 1, -1, 1, 1, 1, 1, 1, 1, -1, 0, 1, -1, 0, -1, 0, 0, -1, -1, -1, 0, -1, 0, 0, 0, 0, -1, -1, 0, 0, -1, 0, -1, 0, -1, 0, -1, -1, 0, 0, 0, 1, 1, 0, 0, 0, 1, 1, 0, 0, -1, -1, -1, -1, 0, 1, 1, 1, 1, 1, 1, 1, 0, 0, 1, 1, 1, 0, 1, 0, 0, 1, 1, 1, 1, 1, 1, 1, 1, 1, 1, 1, 1, -1, -1, -1, 1, 0, -1, -1, -1, -1, 0, 0, 0, 0, 0, -1, -1, 0, 0, -1, -1, 1, 0, 0, -1, -1, 0, 1, -1, -1, 1, 0, 0, 0, 0, 0, 0, 0, 0, 0, 0, 0, 1, 1, 1, -1, 0, 1, -1, -1, -1, 0, 1, 0, 0, 1, 1, 1, 1, 1, 1, 1, 1, 1, 0, 0, 0, 1, -1, -1, 0, 0, -1, 0, 1, 0, 1, -1, 1, 1, 1, -1, -1, 0, 1, 1, 1, 1, 1, 0, 0, 1, 1, 1, 1, 0, 1, 1, 1, 1, -1, 1, 1, 1, -1, 0, 1, -1, 1, -1, 0, 1, -1, 1, -1, 1, -1, -1, -1, -1, -1, -1, -1, -1, -1, -1, -1, -1, -1, 1, 1, 0, 1, 0, 1, 1, 0, 0, 1, 1, 0, 0, 0, 0, 0, 0, 0, 0, 0, 0, 0, 1, 1, 1, 1, 1, 0, 1, 0, 1, 1, 0, 0, 1, 1, 1, 1, -1, 0, 1, 1, 1, 1, -1, 1, 1, 0, -1, 0, 1, -1, 1, -1]\n"
     ]
    }
   ],
   "source": [
    "x_pca = PCA(n_components=100).fit_transform(x_train)\n",
    "y_train = y_train.values.flatten().tolist()\n",
    "print(x_pca)\n",
    "print(y_train)"
   ]
  },
  {
   "cell_type": "code",
   "execution_count": 34,
   "metadata": {},
   "outputs": [
    {
     "name": "stdout",
     "output_type": "stream",
     "text": [
      "Training is done.\n",
      "Saving model to 2015_core\\model\\svm.model...\n",
      "Saving model done.\n"
     ]
    }
   ],
   "source": [
    "clf = svm.SVC(decision_function_shape='ovr')\n",
    "print('Strat training muti-class svm classifier...')\n",
    "clf.fit(x_pca, y_train)\n",
    "print(\"Training is done.\")\n",
    "svm_model = path.join('2015_core','model', 'svm.model')\n",
    "print(\"Saving model to {}...\".format(svm_model))\n",
    "with open(svm_model, 'wb') as f:\n",
    "    pickle.dump(clf, f)\n",
    "print(\"Saving model done.\")\n",
    "#print('demo for svm....')\n",
    "#demo_x = [[0],[1],[2],[3],[4],[5]]\n",
    "#demo_y = [-1,0,1,0,1,-1]\n",
    "#clf = svm.SVC(decision_function_shape='ovo')\n",
    "#clf.fit(demo_x, demo_y)\n",
    "#dec = clf.decision_function([[1]])\n",
    "#print(dec.shape[1])"
   ]
  },
  {
   "cell_type": "code",
   "execution_count": 35,
   "metadata": {},
   "outputs": [
    {
     "name": "stdout",
     "output_type": "stream",
     "text": [
      "Test training accuracy: 0.638537\n"
     ]
    }
   ],
   "source": [
    "print('Test training accuracy: %2f' % clf.score(x_pca, y_train))"
   ]
  },
  {
   "cell_type": "code",
   "execution_count": 40,
   "metadata": {},
   "outputs": [
    {
     "name": "stdout",
     "output_type": "stream",
     "text": [
      "Strat training 2-class svm classifier...\n",
      "Training is done.\n",
      "Saving model to 2015_core\\model\\svm_two.model...\n",
      "Saving model done.\n",
      "Test training accuracy: 0.784136\n"
     ]
    }
   ],
   "source": [
    "two_y = [0 if y == -1 else y for y in y_train]\n",
    "two_clf = svm.SVC(C = 2, probability=True)\n",
    "print('Strat training 2-class svm classifier...')\n",
    "two_clf.fit(x_pca, two_y)\n",
    "print(\"Training is done.\")\n",
    "svm_model = path.join('2015_core','model', 'svm_two.model')\n",
    "print(\"Saving model to {}...\".format(svm_model))\n",
    "with open(svm_model, 'wb') as f:\n",
    "    pickle.dump(two_clf, f)\n",
    "print(\"Saving model done.\")\n",
    "print('Test training accuracy: %2f' % two_clf.score(x_pca, two_y))"
   ]
  },
  {
   "cell_type": "code",
   "execution_count": null,
   "metadata": {},
   "outputs": [],
   "source": []
  }
 ],
 "metadata": {
  "kernelspec": {
   "display_name": "Python 3",
   "language": "python",
   "name": "python3"
  },
  "language_info": {
   "codemirror_mode": {
    "name": "ipython",
    "version": 3
   },
   "file_extension": ".py",
   "mimetype": "text/x-python",
   "name": "python",
   "nbconvert_exporter": "python",
   "pygments_lexer": "ipython3",
   "version": "3.5.2"
  }
 },
 "nbformat": 4,
 "nbformat_minor": 2
}
